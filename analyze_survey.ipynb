{
 "cells": [
  {
   "cell_type": "code",
   "execution_count": 1,
   "metadata": {},
   "outputs": [],
   "source": [
    "import pandas as pd\n",
    "import streamlit as st\n",
    "import pandas as pd\n",
    "import plotly.express as px\n",
    "import plotly.graph_objects as go\n",
    "from utils import sections"
   ]
  },
  {
   "cell_type": "code",
   "execution_count": 2,
   "metadata": {},
   "outputs": [],
   "source": [
    "# Load the data\n",
    "data = pd.read_csv(\"data/survey_output.csv\")  # Update with the actual file path or data source\n",
    "\n",
    "\n",
    "# Filter data by cohort\n",
    "us_data = data[data['Which country are you located in?'] == 'United States']\n",
    "other_data = data[data['Which country are you located in?'] != 'United States']\n"
   ]
  },
  {
   "cell_type": "code",
   "execution_count": 3,
   "metadata": {},
   "outputs": [],
   "source": [
    "# Initialize a results DataFrame to store differences\n",
    "results = []\n",
    "\n",
    "# Loop through each question\n",
    "for section, questions in sections.items():\n",
    "    for question in questions:\n",
    "        if question not in data.columns:\n",
    "            continue  # Skip questions not in the dataset\n",
    "\n",
    "        # Calculate frequencies and percentages for United States\n",
    "        us_freq = us_data[question].value_counts(normalize=True).reset_index()\n",
    "        us_freq.columns = ['Response', 'US_Percentage']\n",
    "        us_freq['US_Percentage'] = (us_freq['US_Percentage'] * 100).round(2)\n",
    "\n",
    "        # Calculate frequencies and percentages for Other countries\n",
    "        other_freq = other_data[question].value_counts(normalize=True).reset_index()\n",
    "        other_freq.columns = ['Response', 'Other_Percentage']\n",
    "        other_freq['Other_Percentage'] = (other_freq['Other_Percentage'] * 100).round(2)\n",
    "\n",
    "        # Merge the two frequency tables\n",
    "        combined_freq = pd.merge(us_freq, other_freq, on='Response', how='outer').fillna(0)\n",
    "\n",
    "        # Calculate the absolute difference in percentages\n",
    "        combined_freq['Difference'] = (combined_freq['US_Percentage'] - combined_freq['Other_Percentage']).abs()\n",
    "\n",
    "        # Add the question and section to the results\n",
    "        combined_freq['Question'] = question\n",
    "        combined_freq['Section'] = section\n",
    "\n",
    "        # Append to the results list\n",
    "        results.append(combined_freq)\n",
    "\n",
    "# Concatenate all results into a single DataFrame\n",
    "results_df = pd.concat(results, ignore_index=True)\n",
    "\n",
    "# Sort by the greatest difference in percentages\n",
    "results_df = results_df.sort_values(by='Difference', ascending=False)\n",
    "\n",
    "# Display the questions with the greatest differences\n",
    "results_df_top = results_df[['Section', 'Question', 'Response', 'US_Percentage', 'Other_Percentage', 'Difference']]\n"
   ]
  },
  {
   "cell_type": "code",
   "execution_count": 4,
   "metadata": {},
   "outputs": [
    {
     "name": "stdout",
     "output_type": "stream",
     "text": [
      "Questions with the greatest differences between United States and Other countries:\n",
      "                     Section  \\\n",
      "3               Demographics   \n",
      "2               Demographics   \n",
      "94     Policy and Adaptation   \n",
      "89     Policy and Adaptation   \n",
      "84     Policy and Adaptation   \n",
      "86     Policy and Adaptation   \n",
      "87     Policy and Adaptation   \n",
      "91     Policy and Adaptation   \n",
      "10              Demographics   \n",
      "14              Demographics   \n",
      "119  Value and Communication   \n",
      "117  Value and Communication   \n",
      "46           Program Details   \n",
      "127          Brand Awareness   \n",
      "108  Value and Communication   \n",
      "103      Holistic Admissions   \n",
      "97       Holistic Admissions   \n",
      "96       Holistic Admissions   \n",
      "115  Value and Communication   \n",
      "68         AI and Admissions   \n",
      "\n",
      "                                              Question  \\\n",
      "3                    Which country are you located in?   \n",
      "2                    Which country are you located in?   \n",
      "94   What solutions is your institution considering...   \n",
      "89   What areas of proposed legislation do you anti...   \n",
      "84   How prepared is your institution to adapt to p...   \n",
      "86   How prepared is your institution to adapt to p...   \n",
      "87   What areas of proposed legislation do you anti...   \n",
      "91   What solutions is your institution considering...   \n",
      "10   Which region best describes your program or in...   \n",
      "14                                 What is your title?   \n",
      "119  How does your institution communicate its uniq...   \n",
      "117  How does your institution communicate its uniq...   \n",
      "46   Which of the following best describes your pro...   \n",
      "127  Which of the following brands have you heard o...   \n",
      "108  What is your institution's primary strategy to...   \n",
      "103  What factors are receiving increased emphasis ...   \n",
      "97   How is your institution evolving its approach ...   \n",
      "96   How is your institution evolving its approach ...   \n",
      "115  What alternative educational pathways is your ...   \n",
      "68   How has your institution integrated AI tools i...   \n",
      "\n",
      "                                              Response  US_Percentage  \\\n",
      "3                                        United States          100.0   \n",
      "2                                       United Kingdom            0.0   \n",
      "94   Revising admissions criteria to align with pol...           57.0   \n",
      "89                           Financial aid and funding           50.0   \n",
      "84                                      Fully prepared           46.0   \n",
      "86                                 Moderately prepared           45.0   \n",
      "87         Changes to affirmative action, DEI policies           40.0   \n",
      "91   Enhancing support for compliance and regulator...           38.0   \n",
      "10   South Atlantic (DE, FL, GA, MD, NC, SC, VA, WV...           28.0   \n",
      "14   Associate/Assistant Dean/Director of Student A...           21.0   \n",
      "119  Through targeted digital marketing and social ...           52.0   \n",
      "117  By hosting events with current students and al...           43.0   \n",
      "46                        Private, 4-year (for-profit)           19.0   \n",
      "127                                             Casper           24.0   \n",
      "108     Emphasizing career readiness and employability           26.0   \n",
      "103             Community service and civic engagement           38.0   \n",
      "97   Increasing emphasis on personal qualities and ...           49.0   \n",
      "96   Expanding evaluation of extracurricular involv...           39.0   \n",
      "115  Offering micro-credentials and certificate pro...           36.0   \n",
      "68   For evaluating applications (e.g., essay scori...           42.0   \n",
      "\n",
      "     Other_Percentage  Difference  \n",
      "3                0.00      100.00  \n",
      "2               83.33       83.33  \n",
      "94               0.00       57.00  \n",
      "89               0.00       50.00  \n",
      "84               0.00       46.00  \n",
      "86               0.00       45.00  \n",
      "87               0.00       40.00  \n",
      "91               0.00       38.00  \n",
      "10               0.00       28.00  \n",
      "14              48.33       27.33  \n",
      "119             78.33       26.33  \n",
      "117             18.33       24.67  \n",
      "46              41.67       22.67  \n",
      "127             46.67       22.67  \n",
      "108             48.33       22.33  \n",
      "103             60.00       22.00  \n",
      "97              70.00       21.00  \n",
      "96              18.33       20.67  \n",
      "115             56.67       20.67  \n",
      "68              21.67       20.33  \n"
     ]
    }
   ],
   "source": [
    "\n",
    "# Display the top results\n",
    "print(\"Questions with the greatest differences between United States and Other countries:\")\n",
    "print(results_df_top.head(20))  # Show top 20 differences"
   ]
  },
  {
   "cell_type": "code",
   "execution_count": 5,
   "metadata": {},
   "outputs": [
    {
     "data": {
      "application/vnd.plotly.v1+json": {
       "config": {
        "plotlyServerURL": "https://plot.ly"
       },
       "data": [
        {
         "alignmentgroup": "True",
         "customdata": [
          [
           100,
           0
          ]
         ],
         "hovertemplate": "Response=United States<br>Absolute Difference (%)=%{text}<br>Survey Question=%{y}<br>US_Percentage=%{customdata[0]}<br>Other_Percentage=%{customdata[1]}<extra></extra>",
         "legendgroup": "United States",
         "marker": {
          "color": "#000001",
          "pattern": {
           "shape": ""
          }
         },
         "name": "United States",
         "offsetgroup": "United States",
         "orientation": "h",
         "showlegend": true,
         "text": [
          100
         ],
         "textposition": "outside",
         "type": "bar",
         "x": [
          100
         ],
         "xaxis": "x",
         "y": [
          "Which country are you located in?"
         ],
         "yaxis": "y"
        },
        {
         "alignmentgroup": "True",
         "customdata": [
          [
           0,
           83.33
          ]
         ],
         "hovertemplate": "Response=United Kingdom<br>Absolute Difference (%)=%{text}<br>Survey Question=%{y}<br>US_Percentage=%{customdata[0]}<br>Other_Percentage=%{customdata[1]}<extra></extra>",
         "legendgroup": "United Kingdom",
         "marker": {
          "color": "#000002",
          "pattern": {
           "shape": ""
          }
         },
         "name": "United Kingdom",
         "offsetgroup": "United Kingdom",
         "orientation": "h",
         "showlegend": true,
         "text": [
          83.33
         ],
         "textposition": "outside",
         "type": "bar",
         "x": [
          83.33
         ],
         "xaxis": "x",
         "y": [
          "Which country are you located in?"
         ],
         "yaxis": "y"
        },
        {
         "alignmentgroup": "True",
         "customdata": [
          [
           57,
           0
          ]
         ],
         "hovertemplate": "Response=Revising admissions criteria to align with policy changes (e.g., affirmative action, financial aid requirements)<br>Absolute Difference (%)=%{text}<br>Survey Question=%{y}<br>US_Percentage=%{customdata[0]}<br>Other_Percentage=%{customdata[1]}<extra></extra>",
         "legendgroup": "Revising admissions criteria to align with policy changes (e.g., affirmative action, financial aid requirements)",
         "marker": {
          "color": "#000003",
          "pattern": {
           "shape": ""
          }
         },
         "name": "Revising admissions criteria to align with policy changes (e.g., affirmative action, financial aid requirements)",
         "offsetgroup": "Revising admissions criteria to align with policy changes (e.g., affirmative action, financial aid requirements)",
         "orientation": "h",
         "showlegend": true,
         "text": [
          57
         ],
         "textposition": "outside",
         "type": "bar",
         "x": [
          57
         ],
         "xaxis": "x",
         "y": [
          "What solutions is your institution considering to adapt to new or proposed higher education policies? Select all that apply."
         ],
         "yaxis": "y"
        },
        {
         "alignmentgroup": "True",
         "customdata": [
          [
           50,
           0
          ]
         ],
         "hovertemplate": "Response=Financial aid and funding<br>Absolute Difference (%)=%{text}<br>Survey Question=%{y}<br>US_Percentage=%{customdata[0]}<br>Other_Percentage=%{customdata[1]}<extra></extra>",
         "legendgroup": "Financial aid and funding",
         "marker": {
          "color": "#000004",
          "pattern": {
           "shape": ""
          }
         },
         "name": "Financial aid and funding",
         "offsetgroup": "Financial aid and funding",
         "orientation": "h",
         "showlegend": true,
         "text": [
          50
         ],
         "textposition": "outside",
         "type": "bar",
         "x": [
          50
         ],
         "xaxis": "x",
         "y": [
          "What areas of proposed legislation do you anticipate will most impact admissions policies? Select all that apply."
         ],
         "yaxis": "y"
        },
        {
         "alignmentgroup": "True",
         "customdata": [
          [
           46,
           0
          ]
         ],
         "hovertemplate": "Response=Fully prepared<br>Absolute Difference (%)=%{text}<br>Survey Question=%{y}<br>US_Percentage=%{customdata[0]}<br>Other_Percentage=%{customdata[1]}<extra></extra>",
         "legendgroup": "Fully prepared",
         "marker": {
          "color": "#000005",
          "pattern": {
           "shape": ""
          }
         },
         "name": "Fully prepared",
         "offsetgroup": "Fully prepared",
         "orientation": "h",
         "showlegend": true,
         "text": [
          46
         ],
         "textposition": "outside",
         "type": "bar",
         "x": [
          46
         ],
         "xaxis": "x",
         "y": [
          "How prepared is your institution to adapt to potential policy changes in higher education?"
         ],
         "yaxis": "y"
        },
        {
         "alignmentgroup": "True",
         "customdata": [
          [
           45,
           0
          ]
         ],
         "hovertemplate": "Response=Moderately prepared<br>Absolute Difference (%)=%{text}<br>Survey Question=%{y}<br>US_Percentage=%{customdata[0]}<br>Other_Percentage=%{customdata[1]}<extra></extra>",
         "legendgroup": "Moderately prepared",
         "marker": {
          "color": "#000006",
          "pattern": {
           "shape": ""
          }
         },
         "name": "Moderately prepared",
         "offsetgroup": "Moderately prepared",
         "orientation": "h",
         "showlegend": true,
         "text": [
          45
         ],
         "textposition": "outside",
         "type": "bar",
         "x": [
          45
         ],
         "xaxis": "x",
         "y": [
          "How prepared is your institution to adapt to potential policy changes in higher education?"
         ],
         "yaxis": "y"
        },
        {
         "alignmentgroup": "True",
         "customdata": [
          [
           40,
           0
          ]
         ],
         "hovertemplate": "Response=Changes to affirmative action, DEI policies<br>Absolute Difference (%)=%{text}<br>Survey Question=%{y}<br>US_Percentage=%{customdata[0]}<br>Other_Percentage=%{customdata[1]}<extra></extra>",
         "legendgroup": "Changes to affirmative action, DEI policies",
         "marker": {
          "color": "#000007",
          "pattern": {
           "shape": ""
          }
         },
         "name": "Changes to affirmative action, DEI policies",
         "offsetgroup": "Changes to affirmative action, DEI policies",
         "orientation": "h",
         "showlegend": true,
         "text": [
          40
         ],
         "textposition": "outside",
         "type": "bar",
         "x": [
          40
         ],
         "xaxis": "x",
         "y": [
          "What areas of proposed legislation do you anticipate will most impact admissions policies? Select all that apply."
         ],
         "yaxis": "y"
        },
        {
         "alignmentgroup": "True",
         "customdata": [
          [
           38,
           0
          ]
         ],
         "hovertemplate": "Response=Enhancing support for compliance and regulatory oversight<br>Absolute Difference (%)=%{text}<br>Survey Question=%{y}<br>US_Percentage=%{customdata[0]}<br>Other_Percentage=%{customdata[1]}<extra></extra>",
         "legendgroup": "Enhancing support for compliance and regulatory oversight",
         "marker": {
          "color": "#000008",
          "pattern": {
           "shape": ""
          }
         },
         "name": "Enhancing support for compliance and regulatory oversight",
         "offsetgroup": "Enhancing support for compliance and regulatory oversight",
         "orientation": "h",
         "showlegend": true,
         "text": [
          38
         ],
         "textposition": "outside",
         "type": "bar",
         "x": [
          38
         ],
         "xaxis": "x",
         "y": [
          "What solutions is your institution considering to adapt to new or proposed higher education policies? Select all that apply."
         ],
         "yaxis": "y"
        },
        {
         "alignmentgroup": "True",
         "customdata": [
          [
           28,
           0
          ]
         ],
         "hovertemplate": "Response=South Atlantic (DE, FL, GA, MD, NC, SC, VA, WV, DC)<br>Absolute Difference (%)=%{text}<br>Survey Question=%{y}<br>US_Percentage=%{customdata[0]}<br>Other_Percentage=%{customdata[1]}<extra></extra>",
         "legendgroup": "South Atlantic (DE, FL, GA, MD, NC, SC, VA, WV, DC)",
         "marker": {
          "color": "#000009",
          "pattern": {
           "shape": ""
          }
         },
         "name": "South Atlantic (DE, FL, GA, MD, NC, SC, VA, WV, DC)",
         "offsetgroup": "South Atlantic (DE, FL, GA, MD, NC, SC, VA, WV, DC)",
         "orientation": "h",
         "showlegend": true,
         "text": [
          28
         ],
         "textposition": "outside",
         "type": "bar",
         "x": [
          28
         ],
         "xaxis": "x",
         "y": [
          "Which region best describes your program or institution’s location?"
         ],
         "yaxis": "y"
        },
        {
         "alignmentgroup": "True",
         "customdata": [
          [
           21,
           48.33
          ]
         ],
         "hovertemplate": "Response=Associate/Assistant Dean/Director of Student Affairs<br>Absolute Difference (%)=%{text}<br>Survey Question=%{y}<br>US_Percentage=%{customdata[0]}<br>Other_Percentage=%{customdata[1]}<extra></extra>",
         "legendgroup": "Associate/Assistant Dean/Director of Student Affairs",
         "marker": {
          "color": "#000010",
          "pattern": {
           "shape": ""
          }
         },
         "name": "Associate/Assistant Dean/Director of Student Affairs",
         "offsetgroup": "Associate/Assistant Dean/Director of Student Affairs",
         "orientation": "h",
         "showlegend": true,
         "text": [
          27.33
         ],
         "textposition": "outside",
         "type": "bar",
         "x": [
          27.33
         ],
         "xaxis": "x",
         "y": [
          "What is your title?"
         ],
         "yaxis": "y"
        },
        {
         "alignmentgroup": "True",
         "customdata": [
          [
           52,
           78.33
          ]
         ],
         "hovertemplate": "Response=Through targeted digital marketing and social media campaigns<br>Absolute Difference (%)=%{text}<br>Survey Question=%{y}<br>US_Percentage=%{customdata[0]}<br>Other_Percentage=%{customdata[1]}<extra></extra>",
         "legendgroup": "Through targeted digital marketing and social media campaigns",
         "marker": {
          "color": "#000001",
          "pattern": {
           "shape": ""
          }
         },
         "name": "Through targeted digital marketing and social media campaigns",
         "offsetgroup": "Through targeted digital marketing and social media campaigns",
         "orientation": "h",
         "showlegend": true,
         "text": [
          26.33
         ],
         "textposition": "outside",
         "type": "bar",
         "x": [
          26.33
         ],
         "xaxis": "x",
         "y": [
          "How does your institution communicate its unique value proposition to prospective students and families? Select all that apply."
         ],
         "yaxis": "y"
        },
        {
         "alignmentgroup": "True",
         "customdata": [
          [
           43,
           18.33
          ]
         ],
         "hovertemplate": "Response=By hosting events with current students and alumni<br>Absolute Difference (%)=%{text}<br>Survey Question=%{y}<br>US_Percentage=%{customdata[0]}<br>Other_Percentage=%{customdata[1]}<extra></extra>",
         "legendgroup": "By hosting events with current students and alumni",
         "marker": {
          "color": "#000002",
          "pattern": {
           "shape": ""
          }
         },
         "name": "By hosting events with current students and alumni",
         "offsetgroup": "By hosting events with current students and alumni",
         "orientation": "h",
         "showlegend": true,
         "text": [
          24.67
         ],
         "textposition": "outside",
         "type": "bar",
         "x": [
          24.67
         ],
         "xaxis": "x",
         "y": [
          "How does your institution communicate its unique value proposition to prospective students and families? Select all that apply."
         ],
         "yaxis": "y"
        },
        {
         "alignmentgroup": "True",
         "customdata": [
          [
           19,
           41.67
          ]
         ],
         "hovertemplate": "Response=Private, 4-year (for-profit)<br>Absolute Difference (%)=%{text}<br>Survey Question=%{y}<br>US_Percentage=%{customdata[0]}<br>Other_Percentage=%{customdata[1]}<extra></extra>",
         "legendgroup": "Private, 4-year (for-profit)",
         "marker": {
          "color": "#000003",
          "pattern": {
           "shape": ""
          }
         },
         "name": "Private, 4-year (for-profit)",
         "offsetgroup": "Private, 4-year (for-profit)",
         "orientation": "h",
         "showlegend": true,
         "text": [
          22.67
         ],
         "textposition": "outside",
         "type": "bar",
         "x": [
          22.67
         ],
         "xaxis": "x",
         "y": [
          "Which of the following best describes your program or institution?"
         ],
         "yaxis": "y"
        },
        {
         "alignmentgroup": "True",
         "customdata": [
          [
           24,
           46.67
          ]
         ],
         "hovertemplate": "Response=Casper<br>Absolute Difference (%)=%{text}<br>Survey Question=%{y}<br>US_Percentage=%{customdata[0]}<br>Other_Percentage=%{customdata[1]}<extra></extra>",
         "legendgroup": "Casper",
         "marker": {
          "color": "#000004",
          "pattern": {
           "shape": ""
          }
         },
         "name": "Casper",
         "offsetgroup": "Casper",
         "orientation": "h",
         "showlegend": true,
         "text": [
          22.67
         ],
         "textposition": "outside",
         "type": "bar",
         "x": [
          22.67
         ],
         "xaxis": "x",
         "y": [
          "Which of the following brands have you heard of? Select all that apply."
         ],
         "yaxis": "y"
        },
        {
         "alignmentgroup": "True",
         "customdata": [
          [
           26,
           48.33
          ]
         ],
         "hovertemplate": "Response=Emphasizing career readiness and employability<br>Absolute Difference (%)=%{text}<br>Survey Question=%{y}<br>US_Percentage=%{customdata[0]}<br>Other_Percentage=%{customdata[1]}<extra></extra>",
         "legendgroup": "Emphasizing career readiness and employability",
         "marker": {
          "color": "#000005",
          "pattern": {
           "shape": ""
          }
         },
         "name": "Emphasizing career readiness and employability",
         "offsetgroup": "Emphasizing career readiness and employability",
         "orientation": "h",
         "showlegend": true,
         "text": [
          22.33
         ],
         "textposition": "outside",
         "type": "bar",
         "x": [
          22.33
         ],
         "xaxis": "x",
         "y": [
          "What is your institution's primary strategy to demonstrate the value of a higher education degree to prospective students?"
         ],
         "yaxis": "y"
        },
        {
         "alignmentgroup": "True",
         "customdata": [
          [
           38,
           60
          ]
         ],
         "hovertemplate": "Response=Community service and civic engagement<br>Absolute Difference (%)=%{text}<br>Survey Question=%{y}<br>US_Percentage=%{customdata[0]}<br>Other_Percentage=%{customdata[1]}<extra></extra>",
         "legendgroup": "Community service and civic engagement",
         "marker": {
          "color": "#000006",
          "pattern": {
           "shape": ""
          }
         },
         "name": "Community service and civic engagement",
         "offsetgroup": "Community service and civic engagement",
         "orientation": "h",
         "showlegend": true,
         "text": [
          22
         ],
         "textposition": "outside",
         "type": "bar",
         "x": [
          22
         ],
         "xaxis": "x",
         "y": [
          "What factors are receiving increased emphasis in your institution's holistic review process? Select all that apply."
         ],
         "yaxis": "y"
        },
        {
         "alignmentgroup": "True",
         "customdata": [
          [
           49,
           70
          ]
         ],
         "hovertemplate": "Response=Increasing emphasis on personal qualities and life experiences<br>Absolute Difference (%)=%{text}<br>Survey Question=%{y}<br>US_Percentage=%{customdata[0]}<br>Other_Percentage=%{customdata[1]}<extra></extra>",
         "legendgroup": "Increasing emphasis on personal qualities and life experiences",
         "marker": {
          "color": "#000007",
          "pattern": {
           "shape": ""
          }
         },
         "name": "Increasing emphasis on personal qualities and life experiences",
         "offsetgroup": "Increasing emphasis on personal qualities and life experiences",
         "orientation": "h",
         "showlegend": true,
         "text": [
          21
         ],
         "textposition": "outside",
         "type": "bar",
         "x": [
          21
         ],
         "xaxis": "x",
         "y": [
          "How is your institution evolving its approach to holistic review in admissions? Select all that apply."
         ],
         "yaxis": "y"
        },
        {
         "alignmentgroup": "True",
         "customdata": [
          [
           39,
           18.33
          ]
         ],
         "hovertemplate": "Response=Expanding evaluation of extracurricular involvement and community impact<br>Absolute Difference (%)=%{text}<br>Survey Question=%{y}<br>US_Percentage=%{customdata[0]}<br>Other_Percentage=%{customdata[1]}<extra></extra>",
         "legendgroup": "Expanding evaluation of extracurricular involvement and community impact",
         "marker": {
          "color": "#000008",
          "pattern": {
           "shape": ""
          }
         },
         "name": "Expanding evaluation of extracurricular involvement and community impact",
         "offsetgroup": "Expanding evaluation of extracurricular involvement and community impact",
         "orientation": "h",
         "showlegend": true,
         "text": [
          20.67
         ],
         "textposition": "outside",
         "type": "bar",
         "x": [
          20.67
         ],
         "xaxis": "x",
         "y": [
          "How is your institution evolving its approach to holistic review in admissions? Select all that apply."
         ],
         "yaxis": "y"
        },
        {
         "alignmentgroup": "True",
         "customdata": [
          [
           36,
           56.67
          ]
         ],
         "hovertemplate": "Response=Offering micro-credentials and certificate programs<br>Absolute Difference (%)=%{text}<br>Survey Question=%{y}<br>US_Percentage=%{customdata[0]}<br>Other_Percentage=%{customdata[1]}<extra></extra>",
         "legendgroup": "Offering micro-credentials and certificate programs",
         "marker": {
          "color": "#000009",
          "pattern": {
           "shape": ""
          }
         },
         "name": "Offering micro-credentials and certificate programs",
         "offsetgroup": "Offering micro-credentials and certificate programs",
         "orientation": "h",
         "showlegend": true,
         "text": [
          20.67
         ],
         "textposition": "outside",
         "type": "bar",
         "x": [
          20.67
         ],
         "xaxis": "x",
         "y": [
          "What alternative educational pathways is your institution developing to attract a broad range of students? Select all that apply."
         ],
         "yaxis": "y"
        },
        {
         "alignmentgroup": "True",
         "customdata": [
          [
           42,
           21.67
          ]
         ],
         "hovertemplate": "Response=For evaluating applications (e.g., essay scoring, reviewing credentials)<br>Absolute Difference (%)=%{text}<br>Survey Question=%{y}<br>US_Percentage=%{customdata[0]}<br>Other_Percentage=%{customdata[1]}<extra></extra>",
         "legendgroup": "For evaluating applications (e.g., essay scoring, reviewing credentials)",
         "marker": {
          "color": "#000010",
          "pattern": {
           "shape": ""
          }
         },
         "name": "For evaluating applications (e.g., essay scoring, reviewing credentials)",
         "offsetgroup": "For evaluating applications (e.g., essay scoring, reviewing credentials)",
         "orientation": "h",
         "showlegend": true,
         "text": [
          20.33
         ],
         "textposition": "outside",
         "type": "bar",
         "x": [
          20.33
         ],
         "xaxis": "x",
         "y": [
          "How has your institution integrated AI tools into the admissions process? Select all that apply."
         ],
         "yaxis": "y"
        }
       ],
       "layout": {
        "barmode": "relative",
        "height": 800,
        "legend": {
         "title": {
          "text": "Response"
         },
         "tracegroupgap": 0
        },
        "template": {
         "data": {
          "candlestick": [
           {
            "decreasing": {
             "line": {
              "color": "#000033"
             }
            },
            "increasing": {
             "line": {
              "color": "#000032"
             }
            },
            "type": "candlestick"
           }
          ],
          "contour": [
           {
            "colorscale": [
             [
              0,
              "#000011"
             ],
             [
              0.1111111111111111,
              "#000012"
             ],
             [
              0.2222222222222222,
              "#000013"
             ],
             [
              0.3333333333333333,
              "#000014"
             ],
             [
              0.4444444444444444,
              "#000015"
             ],
             [
              0.5555555555555556,
              "#000016"
             ],
             [
              0.6666666666666666,
              "#000017"
             ],
             [
              0.7777777777777778,
              "#000018"
             ],
             [
              0.8888888888888888,
              "#000019"
             ],
             [
              1,
              "#000020"
             ]
            ],
            "type": "contour"
           }
          ],
          "contourcarpet": [
           {
            "colorscale": [
             [
              0,
              "#000011"
             ],
             [
              0.1111111111111111,
              "#000012"
             ],
             [
              0.2222222222222222,
              "#000013"
             ],
             [
              0.3333333333333333,
              "#000014"
             ],
             [
              0.4444444444444444,
              "#000015"
             ],
             [
              0.5555555555555556,
              "#000016"
             ],
             [
              0.6666666666666666,
              "#000017"
             ],
             [
              0.7777777777777778,
              "#000018"
             ],
             [
              0.8888888888888888,
              "#000019"
             ],
             [
              1,
              "#000020"
             ]
            ],
            "type": "contourcarpet"
           }
          ],
          "heatmap": [
           {
            "colorscale": [
             [
              0,
              "#000011"
             ],
             [
              0.1111111111111111,
              "#000012"
             ],
             [
              0.2222222222222222,
              "#000013"
             ],
             [
              0.3333333333333333,
              "#000014"
             ],
             [
              0.4444444444444444,
              "#000015"
             ],
             [
              0.5555555555555556,
              "#000016"
             ],
             [
              0.6666666666666666,
              "#000017"
             ],
             [
              0.7777777777777778,
              "#000018"
             ],
             [
              0.8888888888888888,
              "#000019"
             ],
             [
              1,
              "#000020"
             ]
            ],
            "type": "heatmap"
           }
          ],
          "histogram2d": [
           {
            "colorscale": [
             [
              0,
              "#000011"
             ],
             [
              0.1111111111111111,
              "#000012"
             ],
             [
              0.2222222222222222,
              "#000013"
             ],
             [
              0.3333333333333333,
              "#000014"
             ],
             [
              0.4444444444444444,
              "#000015"
             ],
             [
              0.5555555555555556,
              "#000016"
             ],
             [
              0.6666666666666666,
              "#000017"
             ],
             [
              0.7777777777777778,
              "#000018"
             ],
             [
              0.8888888888888888,
              "#000019"
             ],
             [
              1,
              "#000020"
             ]
            ],
            "type": "histogram2d"
           }
          ],
          "icicle": [
           {
            "textfont": {
             "color": "white"
            },
            "type": "icicle"
           }
          ],
          "sankey": [
           {
            "textfont": {
             "color": "#000036"
            },
            "type": "sankey"
           }
          ],
          "scatter": [
           {
            "marker": {
             "line": {
              "width": 0
             }
            },
            "type": "scatter"
           }
          ],
          "table": [
           {
            "cells": {
             "fill": {
              "color": "#000038"
             },
             "font": {
              "color": "#000037"
             },
             "line": {
              "color": "#000039"
             }
            },
            "header": {
             "fill": {
              "color": "#000040"
             },
             "font": {
              "color": "#000036"
             },
             "line": {
              "color": "#000039"
             }
            },
            "type": "table"
           }
          ],
          "waterfall": [
           {
            "connector": {
             "line": {
              "color": "#000036",
              "width": 2
             }
            },
            "decreasing": {
             "marker": {
              "color": "#000033"
             }
            },
            "increasing": {
             "marker": {
              "color": "#000032"
             }
            },
            "totals": {
             "marker": {
              "color": "#000034"
             }
            },
            "type": "waterfall"
           }
          ]
         },
         "layout": {
          "coloraxis": {
           "colorscale": [
            [
             0,
             "#000011"
            ],
            [
             0.1111111111111111,
             "#000012"
            ],
            [
             0.2222222222222222,
             "#000013"
            ],
            [
             0.3333333333333333,
             "#000014"
            ],
            [
             0.4444444444444444,
             "#000015"
            ],
            [
             0.5555555555555556,
             "#000016"
            ],
            [
             0.6666666666666666,
             "#000017"
            ],
            [
             0.7777777777777778,
             "#000018"
            ],
            [
             0.8888888888888888,
             "#000019"
            ],
            [
             1,
             "#000020"
            ]
           ]
          },
          "colorscale": {
           "diverging": [
            [
             0,
             "#000021"
            ],
            [
             0.1,
             "#000022"
            ],
            [
             0.2,
             "#000023"
            ],
            [
             0.3,
             "#000024"
            ],
            [
             0.4,
             "#000025"
            ],
            [
             0.5,
             "#000026"
            ],
            [
             0.6,
             "#000027"
            ],
            [
             0.7,
             "#000028"
            ],
            [
             0.8,
             "#000029"
            ],
            [
             0.9,
             "#000030"
            ],
            [
             1,
             "#000031"
            ]
           ],
           "sequential": [
            [
             0,
             "#000011"
            ],
            [
             0.1111111111111111,
             "#000012"
            ],
            [
             0.2222222222222222,
             "#000013"
            ],
            [
             0.3333333333333333,
             "#000014"
            ],
            [
             0.4444444444444444,
             "#000015"
            ],
            [
             0.5555555555555556,
             "#000016"
            ],
            [
             0.6666666666666666,
             "#000017"
            ],
            [
             0.7777777777777778,
             "#000018"
            ],
            [
             0.8888888888888888,
             "#000019"
            ],
            [
             1,
             "#000020"
            ]
           ],
           "sequentialminus": [
            [
             0,
             "#000011"
            ],
            [
             0.1111111111111111,
             "#000012"
            ],
            [
             0.2222222222222222,
             "#000013"
            ],
            [
             0.3333333333333333,
             "#000014"
            ],
            [
             0.4444444444444444,
             "#000015"
            ],
            [
             0.5555555555555556,
             "#000016"
            ],
            [
             0.6666666666666666,
             "#000017"
            ],
            [
             0.7777777777777778,
             "#000018"
            ],
            [
             0.8888888888888888,
             "#000019"
            ],
            [
             1,
             "#000020"
            ]
           ]
          },
          "colorway": [
           "#000001",
           "#000002",
           "#000003",
           "#000004",
           "#000005",
           "#000006",
           "#000007",
           "#000008",
           "#000009",
           "#000010"
          ]
         }
        },
        "title": {
         "text": "Top 20 Questions with Greatest Differences Between United States and Other Countries",
         "x": 0.5
        },
        "xaxis": {
         "anchor": "y",
         "domain": [
          0,
          1
         ],
         "title": {
          "text": "Absolute Difference (%)"
         }
        },
        "yaxis": {
         "anchor": "x",
         "domain": [
          0,
          1
         ],
         "title": {
          "text": "Survey Question"
         }
        }
       }
      }
     },
     "metadata": {},
     "output_type": "display_data"
    }
   ],
   "source": [
    "import plotly.express as px\n",
    "\n",
    "# Filter the top 20 rows for visualization\n",
    "results_df_top_20 = results_df_top.head(20)\n",
    "\n",
    "# Create an interactive bar chart using Plotly\n",
    "fig = px.bar(\n",
    "    results_df_top_20,\n",
    "    x=\"Difference\",\n",
    "    y=\"Question\",\n",
    "    color=\"Response\",\n",
    "    orientation=\"h\",\n",
    "    text=\"Difference\",\n",
    "    hover_data=[\"US_Percentage\", \"Other_Percentage\"],\n",
    "    title=\"Top 20 Questions with Greatest Differences Between United States and Other Countries\",\n",
    "    labels={\n",
    "        \"Difference\": \"Absolute Difference (%)\",\n",
    "        \"Question\": \"Survey Question\",\n",
    "        \"Response\": \"Response\"\n",
    "    }\n",
    ")\n",
    "\n",
    "# Update layout for better readability\n",
    "fig.update_traces(textposition=\"outside\")\n",
    "fig.update_layout(\n",
    "    yaxis=dict(title=\"Survey Question\"),\n",
    "    xaxis=dict(title=\"Absolute Difference (%)\"),\n",
    "    title_x=0.5,\n",
    "    height=800  # Adjust height for better visualization\n",
    ")\n",
    "\n",
    "# Show the interactive plot\n",
    "fig.show()"
   ]
  },
  {
   "cell_type": "code",
   "execution_count": 6,
   "metadata": {},
   "outputs": [
    {
     "name": "stdout",
     "output_type": "stream",
     "text": [
      "Interactive HTML table saved as 'greatest_differences.html'\n"
     ]
    }
   ],
   "source": [
    "# Export the results to an interactive HTML table\n",
    "results_df_top.to_html(\"greatest_differences.html\", index=False, escape=False)\n",
    "\n",
    "print(\"Interactive HTML table saved as 'greatest_differences.html'\")"
   ]
  },
  {
   "cell_type": "code",
   "execution_count": 8,
   "metadata": {},
   "outputs": [
    {
     "name": "stdout",
     "output_type": "stream",
     "text": [
      "CSV file saved as 'greatest_differences.csv'\n"
     ]
    }
   ],
   "source": [
    "# Export the top 20 results to a CSV file\n",
    "results_df_top.to_csv(\"data/greatest_differences.csv\", index=False)\n",
    "\n",
    "print(\"CSV file saved as 'greatest_differences.csv'\")"
   ]
  }
 ],
 "metadata": {
  "kernelspec": {
   "display_name": ".venv",
   "language": "python",
   "name": "python3"
  },
  "language_info": {
   "codemirror_mode": {
    "name": "ipython",
    "version": 3
   },
   "file_extension": ".py",
   "mimetype": "text/x-python",
   "name": "python",
   "nbconvert_exporter": "python",
   "pygments_lexer": "ipython3",
   "version": "3.13.1"
  }
 },
 "nbformat": 4,
 "nbformat_minor": 2
}
