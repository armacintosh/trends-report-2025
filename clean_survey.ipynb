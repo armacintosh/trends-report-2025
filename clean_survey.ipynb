{
 "cells": [
  {
   "cell_type": "code",
   "execution_count": 1,
   "metadata": {},
   "outputs": [],
   "source": [
    "import pandas as pd"
   ]
  },
  {
   "cell_type": "code",
   "execution_count": 8,
   "metadata": {},
   "outputs": [],
   "source": [
    "# Load the survey data\n",
    "file_path = 'data/Acuity Insights - 2025 Admissions Trends Survey - final data (1).xlsx'\n",
    "sheet_name = 'Acuity Trends Report Data'\n",
    "survey_data = pd.read_excel(file_path, sheet_name=sheet_name, header=None)"
   ]
  },
  {
   "cell_type": "code",
   "execution_count": 13,
   "metadata": {},
   "outputs": [
    {
     "name": "stdout",
     "output_type": "stream",
     "text": [
      "32\n"
     ]
    }
   ],
   "source": [
    "unique_count = survey_data.iloc[0].nunique()\n",
    "print(unique_count)"
   ]
  },
  {
   "cell_type": "code",
   "execution_count": 14,
   "metadata": {},
   "outputs": [],
   "source": [
    "# Extract questions and options\n",
    "questions = survey_data.iloc[0]  # First row for questions\n",
    "options = survey_data.iloc[1]    # Second row for options\n",
    "responses = survey_data.iloc[2:] # Remaining rows for responses"
   ]
  },
  {
   "cell_type": "code",
   "execution_count": null,
   "metadata": {},
   "outputs": [
    {
     "name": "stdout",
     "output_type": "stream",
     "text": [
      "Cleaned data has been saved to data/Cleaned_Survey_Data.csv\n"
     ]
    }
   ],
   "source": [
    "# Create a dictionary to group columns by unique questions\n",
    "question_groups = {}\n",
    "\n",
    "for col in survey_data.columns:\n",
    "    question = questions[col]  # Get the question from the first row\n",
    "    if question not in question_groups:\n",
    "        question_groups[question] = []\n",
    "    question_groups[question].append(col)\n",
    "\n",
    "# Merge columns for the same question\n",
    "cleaned_data = {}\n",
    "\n",
    "for question, cols in question_groups.items():\n",
    "    # Combine all columns under the same question into one column\n",
    "    merged_column = responses[cols].apply(lambda x: x.dropna().iloc[0] if x.dropna().any() else None, axis=1)\n",
    "    cleaned_data[question] = merged_column\n",
    "\n",
    "# Convert to a DataFrame\n",
    "cleaned_df = pd.DataFrame(cleaned_data)\n",
    "\n",
    "# Save the cleaned data to a new CSV file\n",
    "output_file_path = 'data/Cleaned_Survey_Data.csv'\n",
    "cleaned_df.to_csv(output_file_path, index=False)\n",
    "\n",
    "print(f\"Cleaned data has been saved to {output_file_path}\")"
   ]
  },
  {
   "cell_type": "code",
   "execution_count": null,
   "metadata": {},
   "outputs": [],
   "source": [
    "import numpy as np\n",
    "\n",
    "# Drop the first 5 columns\n",
    "cleaned_df_v2 = cleaned_df.drop(cleaned_df.columns[:5], axis=1)\n",
    "\n",
    "# Add a rand_id column with random integers\n",
    "cleaned_df_v2['rand_id'] = np.random.randint(100000, 999999, size=len(cleaned_df_v2))\n",
    "\n",
    "# Reorder columns to place rand_id at the beginning\n",
    "cleaned_df_v2 = cleaned_df_v2[['rand_id'] + cleaned_df_v2.columns[:-1].tolist()]\n",
    "\n",
    "print(cleaned_df_v2.head())"
   ]
  },
  {
   "cell_type": "code",
   "execution_count": 18,
   "metadata": {},
   "outputs": [
    {
     "name": "stdout",
     "output_type": "stream",
     "text": [
      "Cleaned data v2 has been saved to 'data/Cleaned_Survey_Data_v2.csv'\n"
     ]
    }
   ],
   "source": [
    "# Save the cleaned_df_v2 data to a new CSV file\n",
    "cleaned_df_v2.to_csv('data/survey_output.csv', index=False)\n",
    "\n",
    "print(\"Cleaned data v2 has been saved to 'data/Cleaned_Survey_Data_v2.csv'\")"
   ]
  },
  {
   "cell_type": "code",
   "execution_count": 19,
   "metadata": {},
   "outputs": [
    {
     "data": {
      "text/plain": [
       "Index(['rand_id', 'Which country are you located in?',\n",
       "       'Which region best describes your program or institution’s location?',\n",
       "       'What is your title?',\n",
       "       'Which faculty/discipline/team do you belong to? Select all that apply.',\n",
       "       'How many students do you target enrolling each year?',\n",
       "       'What is the average applicant-to-seat ratio at your school?',\n",
       "       'Which of the following best describes your program or institution?',\n",
       "       'What primary recruitment strategy does your institution plan to focus on in 2025? Select all that apply.',\n",
       "       'Which recruitment challenges do you anticipate will be most significant in 2025? Select all that apply.',\n",
       "       'How does your institution plan to respond to the \"enrollment cliff\" (projected decline in high school graduates)? Select all that apply.',\n",
       "       'How has your institution integrated AI tools into the admissions process? Select all that apply.',\n",
       "       'What role do you believe AI will play in admissions processes within the next two years? Select all that apply.',\n",
       "       'How concerned is your institution about applicants using AI tools (e.g., ChatGPT, Grammarly) during the admissions process?',\n",
       "       'What resources or guidance is your institution providing to applicants regarding AI usage (e.g., ChatGPT, Grammarly) in the admissions process? Select all that apply.',\n",
       "       'How prepared is your institution to adapt to potential policy changes in higher education?',\n",
       "       'What areas of proposed legislation do you anticipate will most impact admissions policies? Select all that apply.',\n",
       "       'What solutions is your institution considering to adapt to new or proposed higher education policies? Select all that apply.',\n",
       "       'What is the top challenge and/or opportunity your admissions team is focusing on as you plan for the upcoming admissions cycle?',\n",
       "       'How is your institution evolving its approach to holistic review in admissions? Select all that apply.',\n",
       "       'How are AI and predictive analytics being used in your institution's holistic admissions process? Select all that apply.',\n",
       "       'What factors are receiving increased emphasis in your institution's holistic review process? Select all that apply.',\n",
       "       'What is your institution's primary strategy to demonstrate the value of a higher education degree to prospective students?',\n",
       "       'What alternative educational pathways is your institution developing to attract a broad range of students? Select all that apply.',\n",
       "       'How does your institution communicate its unique value proposition to prospective students and families? Select all that apply.',\n",
       "       'What do you see as the biggest obstacle to communicating the value of higher education today?',\n",
       "       'Which of the following brands have you heard of? Select all that apply.',\n",
       "       'Which of the following brands would you recommend to colleagues? Select all that apply.'],\n",
       "      dtype='object')"
      ]
     },
     "execution_count": 19,
     "metadata": {},
     "output_type": "execute_result"
    }
   ],
   "source": [
    "cleaned_df_v2.columns"
   ]
  }
 ],
 "metadata": {
  "kernelspec": {
   "display_name": ".venv",
   "language": "python",
   "name": "python3"
  },
  "language_info": {
   "codemirror_mode": {
    "name": "ipython",
    "version": 3
   },
   "file_extension": ".py",
   "mimetype": "text/x-python",
   "name": "python",
   "nbconvert_exporter": "python",
   "pygments_lexer": "ipython3",
   "version": "3.13.1"
  }
 },
 "nbformat": 4,
 "nbformat_minor": 2
}
